{
 "cells": [
  {
   "cell_type": "code",
   "execution_count": 3,
   "id": "1756a944",
   "metadata": {},
   "outputs": [],
   "source": [
    "import os, signal, sys\n",
    "file =  \"pgn/\"+os.listdir(\"pgn\")[0]\n",
    "fopen = open(file,'r')\n",
    "flines = fopen.readlines()\n",
    "fgames = [fline for fline in flines if fline[:2]=='1.']\n",
    "fgames = [[mv for mv in fgame.strip().split(\" \") if mv[-1]!='.'][:-1] for fgame in fgames]"
   ]
  },
  {
   "cell_type": "code",
   "execution_count": 10,
   "id": "0baad2be",
   "metadata": {},
   "outputs": [
    {
     "name": "stderr",
     "output_type": "stream",
     "text": [
      "100%|█████████████████████████████████████████████| 4770/4770 [03:37<00:00, 21.93it/s]"
     ]
    },
    {
     "name": "stdout",
     "output_type": "stream",
     "text": [
      "4769 games in 185.8s\n"
     ]
    },
    {
     "name": "stderr",
     "output_type": "stream",
     "text": [
      "\n"
     ]
    }
   ],
   "source": [
    "from subprocess import Popen, PIPE, DEVNULL\n",
    "from tqdm import tqdm\n",
    "from time import time\n",
    "ppath = \"./chess\"\n",
    "epath = \"pgn_debug/error.txt\"\n",
    "open(epath,\"w\").close()\n",
    "ewrite = open(epath,\"w+\")\n",
    "\n",
    "idx=0\n",
    "ttotal = 0\n",
    "for idx in tqdm(range(len(fgames))):\n",
    "    with open(epath,\"r\") as eread:\n",
    "        if(eread.readline()!=''):\n",
    "            break\n",
    "    \n",
    "    proc = Popen([ppath],stderr=ewrite,stdout=DEVNULL,stdin=PIPE,universal_newlines=True,shell=True)\n",
    "    proc.stdin.write(\"\\n\".join(fgames[idx])+\"\\n\")\n",
    "    proc.stdin.write(\"q\\n\")\n",
    "    proc.stdin.flush()\n",
    "    \n",
    "    stime = time()\n",
    "    while(proc.poll() is None):\n",
    "        pass\n",
    "    ttotal += time()-stime\n",
    "print(f\"{idx} games in {round(ttotal,1)}s\")\n",
    "ewrite.close()"
   ]
  },
  {
   "cell_type": "code",
   "execution_count": 13,
   "id": "6aa68a34",
   "metadata": {},
   "outputs": [
    {
     "name": "stdout",
     "output_type": "stream",
     "text": [
      "1818.7 moves/sec\n"
     ]
    },
    {
     "data": {
      "text/plain": [
       "'e4 e5 Qh5 Nf6 Qxe5+ Qe7 Qxe7+ Bxe7 f3 O-O Bc4 Nc6 c3 Na5 Bb5 c6 Ba4 b5 Bd1 d5 d3 dxe4 fxe4 Bg4 Bxg4 Nxg4 h3 Nf6 g4 Bd6 Nf3 Bg3+ Ke2 Rfe8 Be3 Nb7 Nbd2 c5 Nf1 Nd7 Nxg3 g6 Ng5 f5 gxf5 gxf5 Nxf5 Re5 Rhg1 Kh8 Nf7#'"
      ]
     },
     "execution_count": 13,
     "metadata": {},
     "output_type": "execute_result"
    }
   ],
   "source": [
    "total_moves = sum([len(fgame) for fgame in fgames])\n",
    "print(f\"{round(total_moves/ttotal,1)} moves/sec\")\n",
    "\"\\n\".join([\" \".join(fgames[jdx]) for jdx in range(idx-1,idx)])"
   ]
  },
  {
   "cell_type": "code",
   "execution_count": 11,
   "id": "4b1615b0",
   "metadata": {},
   "outputs": [
    {
     "data": {
      "text/plain": [
       "337975"
      ]
     },
     "execution_count": 11,
     "metadata": {},
     "output_type": "execute_result"
    }
   ],
   "source": []
  },
  {
   "cell_type": "code",
   "execution_count": null,
   "id": "4ebf17a7",
   "metadata": {},
   "outputs": [],
   "source": []
  }
 ],
 "metadata": {
  "kernelspec": {
   "display_name": "Python 3 (ipykernel)",
   "language": "python",
   "name": "python3"
  },
  "language_info": {
   "codemirror_mode": {
    "name": "ipython",
    "version": 3
   },
   "file_extension": ".py",
   "mimetype": "text/x-python",
   "name": "python",
   "nbconvert_exporter": "python",
   "pygments_lexer": "ipython3",
   "version": "3.9.7"
  }
 },
 "nbformat": 4,
 "nbformat_minor": 5
}
