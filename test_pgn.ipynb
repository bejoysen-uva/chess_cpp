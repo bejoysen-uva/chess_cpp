{
 "cells": [
  {
   "cell_type": "code",
   "execution_count": 3,
   "id": "1756a944",
   "metadata": {},
   "outputs": [],
   "source": [
    "import os, signal, sys\n",
    "file =  \"pgn/\"+os.listdir(\"pgn\")[0]\n",
    "fopen = open(file,'r')\n",
    "flines = fopen.readlines()\n",
    "fgames = [fline for fline in flines if fline[:2]=='1.']\n",
    "fgames = [[mv for mv in fgame.strip().split(\" \") if mv[-1]!='.'][:-1] for fgame in fgames]"
   ]
  },
  {
   "cell_type": "code",
   "execution_count": 42,
   "id": "0baad2be",
   "metadata": {},
   "outputs": [
    {
     "name": "stderr",
     "output_type": "stream",
     "text": [
      "100%|█████████████████████████████████████████████| 4770/4770 [01:03<00:00, 75.00it/s]"
     ]
    },
    {
     "name": "stdout",
     "output_type": "stream",
     "text": [
      "4769 games in 34.6s\n",
      "9762.0 moves/sec\n"
     ]
    },
    {
     "name": "stderr",
     "output_type": "stream",
     "text": [
      "\n"
     ]
    }
   ],
   "source": [
    "from subprocess import Popen, PIPE, DEVNULL\n",
    "from tqdm import tqdm\n",
    "from time import time\n",
    "ppath = \"./chess\"\n",
    "epath = \"pgn_debug/error.txt\"\n",
    "open(epath,\"w\").close()\n",
    "ewrite = open(epath,\"w+\")\n",
    "\n",
    "idx=0\n",
    "ttotal = 0\n",
    "for idx in tqdm(range(len(fgames))):\n",
    "    with open(epath,\"r\") as eread:\n",
    "        if(eread.readline()!=''):\n",
    "            break\n",
    "    \n",
    "    proc = Popen([ppath],stderr=ewrite,stdout=DEVNULL,stdin=PIPE,universal_newlines=True,shell=True)\n",
    "    proc.stdin.write(\"\\n\".join(fgames[idx])+\"\\n\")\n",
    "    proc.stdin.write(\"q\\n\")\n",
    "    proc.stdin.flush()\n",
    "    \n",
    "    stime = time()\n",
    "    while(proc.poll() is None):\n",
    "        pass\n",
    "    ttotal += time()-stime\n",
    "print(f\"{idx} games in {round(ttotal,1)}s\")\n",
    "ewrite.close()\n",
    "total_moves = sum([len(fgame) for fgame in fgames])\n",
    "print(f\"{round(total_moves/ttotal,1)} moves/sec\")"
   ]
  },
  {
   "cell_type": "code",
   "execution_count": null,
   "id": "e29389b6",
   "metadata": {},
   "outputs": [],
   "source": []
  }
 ],
 "metadata": {
  "kernelspec": {
   "display_name": "Python 3 (ipykernel)",
   "language": "python",
   "name": "python3"
  },
  "language_info": {
   "codemirror_mode": {
    "name": "ipython",
    "version": 3
   },
   "file_extension": ".py",
   "mimetype": "text/x-python",
   "name": "python",
   "nbconvert_exporter": "python",
   "pygments_lexer": "ipython3",
   "version": "3.9.7"
  }
 },
 "nbformat": 4,
 "nbformat_minor": 5
}
