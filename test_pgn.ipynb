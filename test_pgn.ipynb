{
 "cells": [
  {
   "cell_type": "code",
   "execution_count": 1,
   "id": "1756a944",
   "metadata": {},
   "outputs": [],
   "source": [
    "import os, signal, sys\n",
    "file =  \"lichess/\"+os.listdir(\"lichess\")[0]\n",
    "fopen = open(file,'r')\n",
    "flines = fopen.readlines()\n",
    "fgames = [fline for fline in flines if fline[:2]=='1.']\n",
    "fgames = [[mv for mv in fgame.strip().split(\" \") if mv[-1]!='.'][:-1] for fgame in fgames]"
   ]
  },
  {
   "cell_type": "code",
   "execution_count": 20,
   "id": "0baad2be",
   "metadata": {},
   "outputs": [
    {
     "name": "stderr",
     "output_type": "stream",
     "text": [
      "  1%|▎                                              | 37/4770 [00:00<01:49, 43.06it/s]\n"
     ]
    }
   ],
   "source": [
    "from subprocess import Popen, PIPE\n",
    "from tqdm import tqdm\n",
    "ppath = \"./chess\"\n",
    "opath = \"pgn_debug/output.txt\"\n",
    "epath = \"pgn_debug/error.txt\"\n",
    "open(opath,\"w\").close()\n",
    "open(epath,\"w\").close()\n",
    "owrite = open(opath,\"w+\")\n",
    "ewrite = open(epath,\"w+\")\n",
    "idx=0\n",
    "for idx in tqdm(range(len(fgames))):\n",
    "    with open(epath,\"r\") as eread:\n",
    "        if(eread.readline()!=''):\n",
    "            break\n",
    "    proc = Popen([ppath],stdout=owrite,stderr=ewrite,stdin=PIPE,universal_newlines=True,shell=True)\n",
    "    proc.stdin.write(\"\\n\".join(fgames[idx])+\"\\n\")\n",
    "    proc.stdin.write(\"q\\n\")\n",
    "    proc.stdin.flush()\n",
    "    while(proc.poll() is None):\n",
    "        pass\n",
    "        \n",
    "owrite.close()\n",
    "ewrite.close()"
   ]
  },
  {
   "cell_type": "code",
   "execution_count": 21,
   "id": "8fc45478",
   "metadata": {},
   "outputs": [
    {
     "data": {
      "text/plain": [
       "'e4 c5 d4 Nc6 Nf3 cxd4 Nxd4 Nxd4 Qxd4 d6 Qe3 e5 Bd3 Nf6 O-O Be7 Nc3 Bd7 Nd5 Bc6 Nxe7 Qxe7 c4 Rd8 b4 b6 b5 Bb7 a4 Ng4 Qg3 Nf6 Qf3 h6 a5 Qc7 a6 Ba8 Ba3 O-O Rfd1 Rd7 Bc2 Rfd8 Rd2 Qxc4 Rad1 Qe6 Qb3 Qg4 f3 Qg5 Qb2 d5 exd5 Nxd5 Bb3 Nf4 Rxd7 Rxd7 Rxd7 Bxf3 Rd2 Kh7 Rf2 g6 Rxf3 Ne2+ Qxe2 Qc1+ Rf1 Qxa3 Re1 Qc5+ Qe3 f6 Qxc5 Kg7 Rc1 bxc5 Rxc5 g5 Rc7+ Kg6 Rxa7 h5 Rb7 f5 a7 g4 a8=Q Kg5 Qc8 e4 Rd7 e3 Qe8 e2 Qxe2 f4 Qf2 f3 Rf7 fxg2 Rf3 gxf3 Qxf3 h4 Qxg2+'"
      ]
     },
     "execution_count": 21,
     "metadata": {},
     "output_type": "execute_result"
    }
   ],
   "source": [
    "\"\\n\".join([\" \".join(fgames[jdx]) for jdx in range(idx-1,idx)])"
   ]
  },
  {
   "cell_type": "code",
   "execution_count": null,
   "id": "335773ab",
   "metadata": {},
   "outputs": [],
   "source": []
  }
 ],
 "metadata": {
  "kernelspec": {
   "display_name": "Python 3 (ipykernel)",
   "language": "python",
   "name": "python3"
  },
  "language_info": {
   "codemirror_mode": {
    "name": "ipython",
    "version": 3
   },
   "file_extension": ".py",
   "mimetype": "text/x-python",
   "name": "python",
   "nbconvert_exporter": "python",
   "pygments_lexer": "ipython3",
   "version": "3.9.7"
  }
 },
 "nbformat": 4,
 "nbformat_minor": 5
}
