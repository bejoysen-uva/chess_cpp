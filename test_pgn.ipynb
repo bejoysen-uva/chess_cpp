{
 "cells": [
  {
   "cell_type": "code",
   "execution_count": 1,
   "id": "1756a944",
   "metadata": {},
   "outputs": [],
   "source": [
    "import os, signal, sys\n",
    "file =  \"pgn/\"+os.listdir(\"pgn\")[0]\n",
    "fopen = open(file,'r')\n",
    "flines = fopen.readlines()\n",
    "fgames = [fline for fline in flines if fline[:2]=='1.']\n",
    "fgames = [[mv for mv in fgame.strip().split(\" \") if mv[-1]!='.'][:-1] for fgame in fgames]"
   ]
  },
  {
   "cell_type": "code",
   "execution_count": null,
   "id": "0baad2be",
   "metadata": {},
   "outputs": [
    {
     "name": "stderr",
     "output_type": "stream",
     "text": [
      " 87%|███████████████████████████████████████▏     | 4150/4770 [01:04<00:09, 63.86it/s]"
     ]
    }
   ],
   "source": [
    "from subprocess import Popen, PIPE, DEVNULL\n",
    "from tqdm import tqdm\n",
    "from time import time\n",
    "ppath = \"./chess\"\n",
    "epath = \"pgn_debug/error.txt\"\n",
    "open(epath,\"w\").close()\n",
    "ewrite = open(epath,\"w+\")\n",
    "\n",
    "idx=0\n",
    "ttotal = 0\n",
    "for idx in tqdm(range(len(fgames))):\n",
    "    with open(epath,\"r\") as eread:\n",
    "        if(eread.readline()!=''):\n",
    "            break\n",
    "    \n",
    "    proc = Popen([ppath],stderr=ewrite,stdout=DEVNULL,stdin=PIPE,universal_newlines=True,shell=True)\n",
    "    proc.stdin.write(\"\\n\".join(fgames[idx])+\"\\n\")\n",
    "    proc.stdin.write(\"q\\n\") \n",
    "    proc.stdin.flush()\n",
    "    \n",
    "    stime = time()\n",
    "    while(proc.poll() is None):\n",
    "        pass\n",
    "    ttotal += time()-stime\n",
    "print(f\"{idx} games in {round(ttotal,1)}s\")\n",
    "ewrite.close()\n",
    "total_moves = sum([len(fgame) for fgame in fgames])\n",
    "print(f\"{round(total_moves/ttotal,1)} moves/sec\")"
   ]
  },
  {
   "cell_type": "code",
   "execution_count": 9,
   "id": "992bde13",
   "metadata": {},
   "outputs": [
    {
     "data": {
      "text/plain": [
       "'e4 d5 d3 dxe4 dxe4 Qxd1+ Kxd1 Nc6 Bd3 Bg4+ f3 Bh5 Be3 Bg6 Ke2 O-O-O Nc3 Nd4+ Kd2 e5 Bxd4 exd4 Nd5 Ne7 Nxe7+ Bxe7 Nh3 Bb4+ c3 dxc3+ bxc3 Ba5 a4 Rd7 Kc2 Rhd8 c4 Rxd3 Nf4 Rd2+ Kb3 f5 exf5 Bxf5 Rac1 g5 Nd5 c6 Nc3 Bxc3 Rxc3 Rxg2 Re1 Rgd2 Re5 Bg6 Rxg5 R2d3 Rxd3 Rxd3+ Kb4 Rxf3 h4 Rh3 Rg4 Bh5 Rg8+ Kd7 Rg7+ Ke6 Rxb7 Rxh4 Rxa7 Bg6 Ra6 Kd7 Ra7+ Kc8 Ra8+ Kb7 Rf8 Bd3'"
      ]
     },
     "execution_count": 9,
     "metadata": {},
     "output_type": "execute_result"
    }
   ],
   "source": [
    "' '.join(fgames[idx-1])"
   ]
  },
  {
   "cell_type": "code",
   "execution_count": 14,
   "id": "6c482df8",
   "metadata": {},
   "outputs": [
    {
     "data": {
      "text/plain": [
       "'1. e4 d5 2. d3 dxe4 3. dxe4 Qxd1+ 4. Kxd1 Nc6 5. Bd3 Bg4+ 6. f3 Bh5 7. Be3 Bg6 8. Ke2 O-O-O 9. Nc3 Nd4+ 10. Kd2 e5 11. Bxd4 exd4 12. Nd5 Ne7 13. Nxe7+ Bxe7 14. Nh3 Bb4+ 15. c3 dxc3+ 16. bxc3 Ba5 17. a4 Rd7 18. Kc2 Rhd8 19. c4 Rxd3 20. Nf4 Rd2+ 21. Kb3 f5 22. exf5 Bxf5 23. Rac1 g5 24. Nd5 c6 25. Nc3 Bxc3 26. Rxc3 Rxg2 27. Re1 Rgd2 28. Re5 Bg6 29. Rxg5 R2d3 30. Rxd3 Rxd3+ 31. Kb4 Rxf3 32. h4 Rh3 33. Rg4 Bh5 34. Rg8+ Kd7 35. Rg7+ Ke6 36. Rxb7 Rxh4 37. Rxa7 Bg6 38. Ra6 Kd7 39. Ra7+ Kc8 40. Ra8+ Kb7 41. Rf8 Bd3 '"
      ]
     },
     "execution_count": 14,
     "metadata": {},
     "output_type": "execute_result"
    }
   ],
   "source": [
    "pgn = \"\"\n",
    "for j in range(0,len(fgames[idx-1]),2):\n",
    "    pgn+=f\"{j//2+1}. {fgames[idx-1][j]} {fgames[idx-1][j+1]} \"\n",
    "pgn"
   ]
  },
  {
   "cell_type": "code",
   "execution_count": null,
   "id": "367529f9",
   "metadata": {},
   "outputs": [],
   "source": []
  }
 ],
 "metadata": {
  "kernelspec": {
   "display_name": "Python 3 (ipykernel)",
   "language": "python",
   "name": "python3"
  },
  "language_info": {
   "codemirror_mode": {
    "name": "ipython",
    "version": 3
   },
   "file_extension": ".py",
   "mimetype": "text/x-python",
   "name": "python",
   "nbconvert_exporter": "python",
   "pygments_lexer": "ipython3",
   "version": "3.9.7"
  }
 },
 "nbformat": 4,
 "nbformat_minor": 5
}
