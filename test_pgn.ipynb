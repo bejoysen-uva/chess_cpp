{
 "cells": [
  {
   "cell_type": "code",
   "execution_count": 35,
   "id": "1756a944",
   "metadata": {},
   "outputs": [],
   "source": [
    "import os, signal, sys\n",
    "flines = []\n",
    "for file in os.listdir(\"pgn\"):\n",
    "    with open(\"pgn/\"+file,'r') as fopen:\n",
    "        flines+= fopen.readlines()\n",
    "fgames = [fline for fline in flines if fline[:2]=='1.']\n",
    "fgames = [[mv for mv in fgame.strip().split(\" \") if mv[-1]!='.'][:-1] for fgame in fgames]"
   ]
  },
  {
   "cell_type": "code",
   "execution_count": 37,
   "id": "0baad2be",
   "metadata": {},
   "outputs": [
    {
     "name": "stderr",
     "output_type": "stream",
     "text": [
      "100%|█████████████████████████████████████████████| 4771/4771 [01:18<00:00, 60.77it/s]"
     ]
    },
    {
     "name": "stdout",
     "output_type": "stream",
     "text": [
      "4770 games in 45.7s\n",
      "7402.9 moves/sec\n"
     ]
    },
    {
     "name": "stderr",
     "output_type": "stream",
     "text": [
      "\n"
     ]
    }
   ],
   "source": [
    "from subprocess import Popen, PIPE, DEVNULL\n",
    "from tqdm import tqdm\n",
    "from time import time\n",
    "ppath = \"./chess\"\n",
    "epath = \"pgn_debug/error.txt\"\n",
    "open(epath,\"w\").close()\n",
    "ewrite = open(epath,\"w+\")\n",
    "\n",
    "idx=0\n",
    "ttotal = 0\n",
    "for idx in tqdm(range(len(fgames))):\n",
    "    with open(epath,\"r\") as eread:\n",
    "        if(eread.readline()!=''):\n",
    "            break\n",
    "    \n",
    "    proc = Popen([ppath],stderr=ewrite,stdout=DEVNULL,stdin=PIPE,universal_newlines=True,shell=True)\n",
    "    proc.stdin.write(\"\\n\".join(fgames[idx])+\"\\n\")\n",
    "    proc.stdin.write(\"q\\n\") \n",
    "    proc.stdin.flush()\n",
    "    \n",
    "    stime = time()\n",
    "    while(proc.poll() is None):\n",
    "        pass\n",
    "    ttotal += time()-stime\n",
    "print(f\"{idx} games in {round(ttotal,1)}s\")\n",
    "ewrite.close()\n",
    "total_moves = sum([len(fgame) for fgame in fgames])\n",
    "print(f\"{round(total_moves/ttotal,1)} moves/sec\")"
   ]
  },
  {
   "cell_type": "code",
   "execution_count": null,
   "id": "493da1e7",
   "metadata": {},
   "outputs": [],
   "source": []
  }
 ],
 "metadata": {
  "kernelspec": {
   "display_name": "Python 3 (ipykernel)",
   "language": "python",
   "name": "python3"
  },
  "language_info": {
   "codemirror_mode": {
    "name": "ipython",
    "version": 3
   },
   "file_extension": ".py",
   "mimetype": "text/x-python",
   "name": "python",
   "nbconvert_exporter": "python",
   "pygments_lexer": "ipython3",
   "version": "3.9.7"
  }
 },
 "nbformat": 4,
 "nbformat_minor": 5
}
